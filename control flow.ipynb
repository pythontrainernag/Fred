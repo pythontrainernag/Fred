{
 "cells": [
  {
   "cell_type": "raw",
   "metadata": {},
   "source": [
    "Till now the program execution is line by line.\n",
    "If you want to take control of program execution order, then you will be using the control flow concepts.\n",
    "I want to skip/execute few lines(block of code) of code based on certain criteria(CS)\n",
    "or\n",
    "I want to execute few lines repeatedly(IS)\n",
    "or \n",
    "jump from one line to other like line No.5 to line No.12 etc(example)(TS)."
   ]
  },
  {
   "cell_type": "markdown",
   "metadata": {},
   "source": [
    "# conditional statements"
   ]
  },
  {
   "cell_type": "markdown",
   "metadata": {},
   "source": [
    "Condition?"
   ]
  },
  {
   "cell_type": "code",
   "execution_count": null,
   "metadata": {},
   "outputs": [],
   "source": [
    "balance = 200\n",
    "print balance < 300"
   ]
  },
  {
   "cell_type": "markdown",
   "metadata": {},
   "source": [
    "Using the relational operators between any two similiar datatypes is nothin but a condition"
   ]
  },
  {
   "cell_type": "raw",
   "metadata": {},
   "source": [
    "Anything where outcome is a boolean because python is a dynamic typing programming "
   ]
  },
  {
   "cell_type": "code",
   "execution_count": null,
   "metadata": {},
   "outputs": [],
   "source": [
    "5 < 5.5"
   ]
  },
  {
   "cell_type": "code",
   "execution_count": null,
   "metadata": {},
   "outputs": [],
   "source": [
    "bool(10)"
   ]
  },
  {
   "cell_type": "code",
   "execution_count": null,
   "metadata": {},
   "outputs": [],
   "source": [
    "10\n",
    "if 10:\n",
    "    print(\"Yes\")"
   ]
  },
  {
   "cell_type": "code",
   "execution_count": null,
   "metadata": {},
   "outputs": [],
   "source": [
    "if 0:\n",
    "    print(\"Yes\")"
   ]
  },
  {
   "cell_type": "markdown",
   "metadata": {},
   "source": [
    "conditional statements"
   ]
  },
  {
   "cell_type": "raw",
   "metadata": {},
   "source": [
    "Based on condition, I will be executing block of statements\n",
    "If condition satisfies then I will be performing an action otherwise I may/may not proceed alternate action"
   ]
  },
  {
   "cell_type": "code",
   "execution_count": null,
   "metadata": {},
   "outputs": [],
   "source": [
    "a = 10\n",
    "b = 20"
   ]
  },
  {
   "cell_type": "markdown",
   "metadata": {},
   "source": [
    "Scenario 1: If conditio satisfies execute block of statements otherwise skip"
   ]
  },
  {
   "cell_type": "raw",
   "metadata": {},
   "source": [
    "if <condition>:\n",
    "    st1\n",
    "    st2\n",
    "    |\n",
    "    |\n",
    "    stn"
   ]
  },
  {
   "cell_type": "raw",
   "metadata": {},
   "source": [
    "wrong syntax\n",
    "if <condition>:\n",
    "    st1\n",
    "    st2\n",
    "st3\n",
    "    st4"
   ]
  },
  {
   "cell_type": "raw",
   "metadata": {},
   "source": [
    "wrong syntax\n",
    "if <condition>:\n",
    "    st1\n",
    "  st2\n",
    "    st3\n",
    "      st4"
   ]
  },
  {
   "cell_type": "code",
   "execution_count": null,
   "metadata": {},
   "outputs": [],
   "source": [
    "print(a,b)"
   ]
  },
  {
   "cell_type": "code",
   "execution_count": null,
   "metadata": {},
   "outputs": [],
   "source": [
    "if a<b:\n",
    "    c = a+b\n",
    "    print(c)\n",
    "    print(a+b)\n",
    "    print(\"inside if\")\n",
    "    print(\"a is greater\")\n",
    "print(\"executed if\")"
   ]
  },
  {
   "cell_type": "code",
   "execution_count": null,
   "metadata": {},
   "outputs": [],
   "source": [
    "if a>b:\n",
    "    c = a+b\n",
    "    print(c)\n",
    "    print(a+b)\n",
    "    print(\"inside if\")\n",
    "    print(\"a is greater\")\n",
    "print(\"executed if\")\n",
    "print(\"hello python\")"
   ]
  },
  {
   "cell_type": "raw",
   "metadata": {},
   "source": [
    "Scenario 2: if condition satisfies execute block of statements otherwise execute alternative block of statements\n",
    "Here we will use a new keyword called else"
   ]
  },
  {
   "cell_type": "raw",
   "metadata": {},
   "source": [
    "if <condition>:\n",
    "    st1\n",
    "    st2\n",
    "    |\n",
    "    |\n",
    "    stn\n",
    "else:\n",
    "    st1\n",
    "    st2\n",
    "    |\n",
    "    |\n",
    "    stn"
   ]
  },
  {
   "cell_type": "code",
   "execution_count": null,
   "metadata": {},
   "outputs": [],
   "source": [
    "if a<b:\n",
    "    c = a+b\n",
    "    print(c)\n",
    "    print(a+b)\n",
    "    print(\"inside if\")\n",
    "    print(\"a is greater\")\n",
    "else:\n",
    "    c = a-b\n",
    "    print(c)\n",
    "    print(a-b)\n",
    "    print(\"inside else block\")\n",
    "    print(\"b is greater\")\n",
    "print(\"executed if\")"
   ]
  },
  {
   "cell_type": "code",
   "execution_count": null,
   "metadata": {},
   "outputs": [],
   "source": [
    "if a>b:\n",
    "    c = a+b\n",
    "    print(c)\n",
    "    print(a+b)\n",
    "    print(\"inside if\")\n",
    "    print(\"a is greater\")\n",
    "else:\n",
    "    c = a-b\n",
    "    print(c)\n",
    "    print(a-b)\n",
    "    print(\"inside else block\")\n",
    "    print(\"b is greater\")\n",
    "print(\"executed if\")"
   ]
  },
  {
   "cell_type": "code",
   "execution_count": null,
   "metadata": {},
   "outputs": [],
   "source": [
    "balance = int(raw_input(\"enter amount \"))\n",
    "if balance >= 300:\n",
    "    print(\"Thanks for maintaining good relationship with our bank\")\n",
    "else:\n",
    "    print(\"please maintain minimum balance in your account otherwise charges will be applied\")"
   ]
  },
  {
   "cell_type": "code",
   "execution_count": null,
   "metadata": {},
   "outputs": [],
   "source": [
    "balance = int(raw_input(\"enter amount \"))\n",
    "if balance >= 300:\n",
    "    print(\"Thanks for maintaining good relationship with our bank\")\n",
    "else:\n",
    "    print(\"please maintain minimum balance in your account otherwise charges will be applied\")"
   ]
  },
  {
   "cell_type": "markdown",
   "metadata": {},
   "source": [
    "# Scenario 3\n",
    "scenarion 3: execute block of statements based on compound condition"
   ]
  },
  {
   "cell_type": "raw",
   "metadata": {},
   "source": [
    "Compound condition?"
   ]
  },
  {
   "cell_type": "raw",
   "metadata": {},
   "source": [
    "I will be using logical operators between the conditions to make it as compound\n",
    "and, or are the logicator operators which will be used"
   ]
  },
  {
   "cell_type": "code",
   "execution_count": null,
   "metadata": {},
   "outputs": [],
   "source": [
    "a = 10\n",
    "b = 40\n",
    "c = 5\n",
    "if a>b and a>c:\n",
    "    print(\"a is greater\")\n",
    "\n",
    "if b>a and b>c:\n",
    "    print(\"b is greater\")\n",
    "\n",
    "if c>a and c>b:\n",
    "    print(\"c is greater\")"
   ]
  },
  {
   "cell_type": "code",
   "execution_count": null,
   "metadata": {},
   "outputs": [],
   "source": [
    "a = 10\n",
    "b = 40\n",
    "c = 5\n",
    "if a>b and a>c:\n",
    "    print(\"a is not greater\")\n",
    "else:\n",
    "    print(\"a is greater\")"
   ]
  },
  {
   "cell_type": "raw",
   "metadata": {},
   "source": [
    "Scenario 4: Maintaining multiple alternatives\n",
    "Here I will be using a new keyword call elif"
   ]
  },
  {
   "cell_type": "code",
   "execution_count": null,
   "metadata": {},
   "outputs": [],
   "source": [
    "print a,b,c"
   ]
  },
  {
   "cell_type": "code",
   "execution_count": null,
   "metadata": {},
   "outputs": [],
   "source": [
    "if a>b and a>c:\n",
    "    print(\"a is greater\")\n",
    "elif b>c and b>a:\n",
    "    print(\"b is greater\")\n",
    "elif c>a and c>b:\n",
    "    print(\"c is greater\")"
   ]
  },
  {
   "cell_type": "code",
   "execution_count": null,
   "metadata": {},
   "outputs": [],
   "source": [
    "x = True\n",
    "y = True\n",
    "z = True\n",
    "if x:\n",
    "    print(\"x is True\")\n",
    "elif y:\n",
    "    print(\"y is True\")\n",
    "elif z:\n",
    "    print(\"z is True\")"
   ]
  },
  {
   "cell_type": "code",
   "execution_count": null,
   "metadata": {},
   "outputs": [],
   "source": [
    "x = False\n",
    "y = True\n",
    "z = True\n",
    "if x:\n",
    "    print(\"x is True\")\n",
    "elif y:\n",
    "    print(\"y is True\")\n",
    "elif z:\n",
    "    print(\"z is True\")"
   ]
  },
  {
   "cell_type": "code",
   "execution_count": null,
   "metadata": {},
   "outputs": [],
   "source": [
    "if a>b and a>c:\n",
    "    print(\"a is greater\")\n",
    "elif b>c:\n",
    "    print(\"b is greater\")\n",
    "else:\n",
    "    print(\"c is greater\")"
   ]
  },
  {
   "cell_type": "markdown",
   "metadata": {},
   "source": [
    "# loops"
   ]
  },
  {
   "cell_type": "raw",
   "metadata": {},
   "source": [
    "mainly used to execute block of statements repeatedly \n",
    "While and for loop\n",
    "Points to be considered for while loop\n",
    "1. When to start the loop\n",
    "2. when/How to end the loop\n",
    "3. block of statements that has to be executed repeatedly"
   ]
  },
  {
   "cell_type": "raw",
   "metadata": {},
   "source": [
    "Example :\n",
    "    I have print my name 3 times"
   ]
  },
  {
   "cell_type": "raw",
   "metadata": {},
   "source": [
    "while <condition>:\n",
    "    st1\n",
    "    st2\n",
    "    |\n",
    "    |\n",
    "    stn"
   ]
  },
  {
   "cell_type": "code",
   "execution_count": 1,
   "metadata": {},
   "outputs": [
    {
     "name": "stdout",
     "output_type": "stream",
     "text": [
      "starting loop\n",
      "Nag\n",
      "0\n",
      "Nag\n",
      "1\n",
      "Nag\n",
      "2\n",
      "loop completed\n"
     ]
    }
   ],
   "source": [
    "# After executing print statement for 3 times, I have to fail the condition\n",
    "i = 0\n",
    "print(\"starting loop\")\n",
    "while i<3:\n",
    "    print(\"Nag\")\n",
    "    print(i)\n",
    "    i += 1\n",
    "print(\"loop completed\")"
   ]
  },
  {
   "cell_type": "code",
   "execution_count": null,
   "metadata": {},
   "outputs": [],
   "source": [
    "i = 0\n",
    "print(\"starting loop\")\n",
    "while i<3:\n",
    "    print(\"Nag\")\n",
    "    print(i)\n",
    "print(\"loop completed\")"
   ]
  },
  {
   "cell_type": "markdown",
   "metadata": {},
   "source": [
    "Fibanocci number series \n",
    "0 1 1 2 3 5 8 13 21 34 \n"
   ]
  },
  {
   "cell_type": "raw",
   "metadata": {},
   "source": [
    "I want to print to fibanocci number where max number should not be greater than 25"
   ]
  },
  {
   "cell_type": "code",
   "execution_count": 7,
   "metadata": {},
   "outputs": [
    {
     "name": "stdout",
     "output_type": "stream",
     "text": [
      "0\n",
      "1\n",
      "1\n",
      "2\n",
      "3\n",
      "5\n",
      "8\n",
      "13\n",
      "21\n"
     ]
    }
   ],
   "source": [
    "\n",
    "y = 1\n",
    "a = 0\n",
    "while x < 25:\n",
    "    print(a)\n",
    "    a,b = y, x+y\n",
    "    x = a\n",
    "    y = b\n",
    "    "
   ]
  },
  {
   "cell_type": "markdown",
   "metadata": {},
   "source": [
    "# For loop"
   ]
  },
  {
   "cell_type": "raw",
   "metadata": {},
   "source": [
    "for is used to iterate over the sequence"
   ]
  },
  {
   "cell_type": "raw",
   "metadata": {},
   "source": [
    "for <some variable> in seq:\n",
    "    st1\n",
    "    st2\n",
    "    |\n",
    "    |\n",
    "    stn"
   ]
  },
  {
   "cell_type": "code",
   "execution_count": 9,
   "metadata": {},
   "outputs": [
    {
     "name": "stdout",
     "output_type": "stream",
     "text": [
      "statement inside loop\n",
      "('x value is', 10)\n",
      "statement inside loop\n",
      "('x value is', 25)\n",
      "statement inside loop\n",
      "('x value is', 30)\n",
      "loop completed\n"
     ]
    }
   ],
   "source": [
    "for x in [10, 25, 30]:\n",
    "    print(\"statement inside loop\")\n",
    "    print(\"x value is\", x)\n",
    "print(\"loop completed\")"
   ]
  },
  {
   "cell_type": "markdown",
   "metadata": {},
   "source": [
    "# prime number \n",
    "prime is a number which is divisible with 1 and itself only"
   ]
  },
  {
   "cell_type": "code",
   "execution_count": 1,
   "metadata": {},
   "outputs": [],
   "source": [
    "# 15 ---> 1,3,5 and 15\n",
    "# 17 ---> 1 and 17 "
   ]
  },
  {
   "cell_type": "raw",
   "metadata": {},
   "source": [
    "I have to take a number to check whether is it a prime or not?\n",
    "I have to check whether number is divisible with 1\n",
    "I have to check whether number is divisible with 2 and I have to continue till that number"
   ]
  },
  {
   "cell_type": "raw",
   "metadata": {},
   "source": [
    "If we really observe, I have to perform a repeatative task like whether number is divisible with some other number"
   ]
  },
  {
   "cell_type": "code",
   "execution_count": 1,
   "metadata": {},
   "outputs": [
    {
     "name": "stdout",
     "output_type": "stream",
     "text": [
      "enter a number 6\n",
      "1\n",
      "divisible\n",
      "2\n",
      "divisible\n",
      "3\n",
      "divisible\n",
      "4\n",
      "5\n",
      "6\n",
      "divisible\n",
      "looping has done \n"
     ]
    }
   ],
   "source": [
    "a = int(raw_input(\"enter a number \"))\n",
    "i = 1\n",
    "# starting from 1 to till that number whether a number is divisibe\n",
    "# So if i values crosses a values then i have to stop verifying the division\n",
    "# i <= a \n",
    "while i <=a:\n",
    "    print(i)\n",
    "    if a%i == 0:\n",
    "        print(\"divisible\")\n",
    "    i += 1\n",
    "print(\"looping has done \")"
   ]
  },
  {
   "cell_type": "code",
   "execution_count": 2,
   "metadata": {},
   "outputs": [
    {
     "name": "stdout",
     "output_type": "stream",
     "text": [
      "enter a number 7\n",
      "1\n",
      "divisible\n",
      "2\n",
      "3\n",
      "4\n",
      "5\n",
      "6\n",
      "7\n",
      "divisible\n",
      "looping has done \n"
     ]
    }
   ],
   "source": [
    "a = int(raw_input(\"enter a number \"))\n",
    "i = 1\n",
    "# starting from 1 to till that number whether a number is divisibe\n",
    "# So if i values crosses a values then i have to stop verifying the division\n",
    "# i <= a\n",
    "while i <=a:\n",
    "    print(i)\n",
    "    if a%i == 0:\n",
    "        print(\"divisible\")\n",
    "    i += 1\n",
    "print(\"looping has done \")"
   ]
  },
  {
   "cell_type": "code",
   "execution_count": 3,
   "metadata": {},
   "outputs": [
    {
     "name": "stdout",
     "output_type": "stream",
     "text": [
      "enter a number 15\n",
      "1\n",
      "divisible\n",
      "2\n",
      "3\n",
      "divisible\n",
      "4\n",
      "5\n",
      "divisible\n",
      "6\n",
      "7\n",
      "8\n",
      "9\n",
      "10\n",
      "11\n",
      "12\n",
      "13\n",
      "14\n",
      "15\n",
      "divisible\n",
      "looping has done \n",
      "you have entered non prime number\n"
     ]
    }
   ],
   "source": [
    "a = int(raw_input(\"enter a number \"))\n",
    "i = 1\n",
    "# starting from 1 to till that number whether a number is divisibe\n",
    "# So if i values crosses a values then i have to stop verifying the division\n",
    "# i <= a\n",
    "count = 0\n",
    "while i <=a:\n",
    "    print(i)\n",
    "    if a%i == 0:\n",
    "        print(\"divisible\")\n",
    "        count += 1\n",
    "    i += 1\n",
    "print(\"looping has done \")\n",
    "if count==2:\n",
    "    print(\"you have entered prime number\")\n",
    "else:\n",
    "    print(\"you have entered non prime number\")"
   ]
  },
  {
   "cell_type": "code",
   "execution_count": 4,
   "metadata": {},
   "outputs": [
    {
     "name": "stdout",
     "output_type": "stream",
     "text": [
      "enter a number 13\n",
      "1\n",
      "divisible\n",
      "2\n",
      "3\n",
      "4\n",
      "5\n",
      "6\n",
      "7\n",
      "8\n",
      "9\n",
      "10\n",
      "11\n",
      "12\n",
      "13\n",
      "divisible\n",
      "looping has done \n",
      "you have entered prime number\n"
     ]
    }
   ],
   "source": [
    "a = int(raw_input(\"enter a number \"))\n",
    "i = 1\n",
    "# starting from 1 to till that number whether a number is divisibe\n",
    "# So if i values crosses a values then i have to stop verifying the division\n",
    "# i <= a\n",
    "count = 0\n",
    "while i <=a:\n",
    "    print(i)\n",
    "    if a%i == 0:\n",
    "        print(\"divisible\")\n",
    "        count += 1\n",
    "    i += 1\n",
    "print(\"looping has done \")\n",
    "if count==2:\n",
    "    print(\"you have entered prime number\")\n",
    "else:\n",
    "    print(\"you have entered non prime number\")"
   ]
  },
  {
   "cell_type": "code",
   "execution_count": 5,
   "metadata": {},
   "outputs": [
    {
     "name": "stdout",
     "output_type": "stream",
     "text": [
      "enter a number 15\n",
      "you have entered non prime number\n"
     ]
    }
   ],
   "source": [
    "a = int(raw_input(\"enter a number \"))\n",
    "i = 1\n",
    "# starting from 1 to till that number whether a number is divisibe\n",
    "# So if i values crosses a values then i have to stop verifying the division\n",
    "# i <= a\n",
    "c1 = 0\n",
    "while i <=a:\n",
    "    if a%i == 0:\n",
    "        c1 += 1\n",
    "    i += 1\n",
    "if c1==2:\n",
    "    print(\"you have entered prime number\")\n",
    "else:\n",
    "    print(\"you have entered non prime number\")"
   ]
  },
  {
   "cell_type": "code",
   "execution_count": 6,
   "metadata": {},
   "outputs": [
    {
     "name": "stdout",
     "output_type": "stream",
     "text": [
      "enter a number 17\n",
      "you have entered prime number\n"
     ]
    }
   ],
   "source": [
    "a = int(raw_input(\"enter a number \"))\n",
    "i = 1\n",
    "# starting from 1 to till that number whether a number is divisibe\n",
    "# So if i values crosses a values then i have to stop verifying the division\n",
    "# i <= a\n",
    "c1 = 0\n",
    "while i <=a:\n",
    "    if a%i == 0:\n",
    "        c1 += 1\n",
    "    i += 1\n",
    "if c1==2:\n",
    "    print(\"you have entered prime number\")\n",
    "else:\n",
    "    print(\"you have entered non prime number\")"
   ]
  },
  {
   "cell_type": "markdown",
   "metadata": {},
   "source": [
    "#  range"
   ]
  },
  {
   "cell_type": "raw",
   "metadata": {},
   "source": [
    "range will take 3 arguments/values\n",
    "first argument is starting value and default SV is 0\n",
    "second argument is end value and it's a mandatory field\n",
    "third argument is step size and default step size is 1"
   ]
  },
  {
   "cell_type": "code",
   "execution_count": 7,
   "metadata": {},
   "outputs": [
    {
     "name": "stdout",
     "output_type": "stream",
     "text": [
      "0\n",
      "1\n",
      "2\n",
      "3\n"
     ]
    }
   ],
   "source": [
    "for x in range(4):# first x value will be zero, then 0+1(SS)--->1+1(SS)-->2+1(SS)-->3+1---> reached end value\n",
    "    print x"
   ]
  },
  {
   "cell_type": "code",
   "execution_count": 8,
   "metadata": {},
   "outputs": [
    {
     "name": "stdout",
     "output_type": "stream",
     "text": [
      "2\n",
      "3\n",
      "4\n",
      "5\n",
      "6\n",
      "7\n"
     ]
    }
   ],
   "source": [
    "for x in range(2, 8):\n",
    "    print(x)"
   ]
  },
  {
   "cell_type": "code",
   "execution_count": 11,
   "metadata": {},
   "outputs": [
    {
     "name": "stdout",
     "output_type": "stream",
     "text": [
      "2\n",
      "hello\n",
      "4\n",
      "hello\n",
      "6\n",
      "hello\n"
     ]
    }
   ],
   "source": [
    "for x in range(2, 8, 2):# SV value is 2, initially x is 2, 2+2-->4+2--->6+2--->8(reaching/crossing EV)\n",
    "    print(x)\n",
    "    print(\"hello\")"
   ]
  },
  {
   "cell_type": "code",
   "execution_count": 13,
   "metadata": {},
   "outputs": [
    {
     "name": "stdout",
     "output_type": "stream",
     "text": [
      "enter a number 5\n",
      "1\n",
      "2\n",
      "3\n",
      "4\n",
      "5\n",
      "you have entered non prime number\n"
     ]
    }
   ],
   "source": [
    "a = int(raw_input(\"enter a number \"))\n",
    "\n",
    "for i in range(1,a+1):\n",
    "    print(i)\n",
    "    if a%i == 0:\n",
    "        c1 += 1\n",
    "    i += 1\n",
    "if c1==2:\n",
    "    print(\"you have entered prime number\")\n",
    "else:\n",
    "    print(\"you have entered non prime number\")"
   ]
  },
  {
   "cell_type": "code",
   "execution_count": 14,
   "metadata": {},
   "outputs": [
    {
     "name": "stdout",
     "output_type": "stream",
     "text": [
      "enter a number 6\n",
      "1\n",
      "2\n",
      "3\n",
      "4\n",
      "5\n",
      "6\n",
      "you have entered non prime number\n"
     ]
    }
   ],
   "source": [
    "a = int(raw_input(\"enter a number \"))\n",
    "\n",
    "for i in range(1,a+1):\n",
    "    print(i)\n",
    "    if a%i == 0:\n",
    "        c1 += 1\n",
    "    i += 1\n",
    "if c1==2:\n",
    "    print(\"you have entered prime number\")\n",
    "else:\n",
    "    print(\"you have entered non prime number\")"
   ]
  },
  {
   "cell_type": "code",
   "execution_count": 15,
   "metadata": {},
   "outputs": [
    {
     "name": "stdout",
     "output_type": "stream",
     "text": [
      "[1, 2, 3, 4, 5, 6]\n"
     ]
    }
   ],
   "source": [
    "print(range(1,7))"
   ]
  },
  {
   "cell_type": "code",
   "execution_count": 16,
   "metadata": {},
   "outputs": [
    {
     "name": "stdout",
     "output_type": "stream",
     "text": [
      "1\n",
      "2\n",
      "3\n",
      "4\n",
      "5\n",
      "6\n"
     ]
    }
   ],
   "source": [
    "for y in range(1,7):\n",
    "    print(y)"
   ]
  },
  {
   "cell_type": "code",
   "execution_count": 17,
   "metadata": {},
   "outputs": [
    {
     "name": "stdout",
     "output_type": "stream",
     "text": [
      "1\n",
      "2\n",
      "3\n",
      "4\n",
      "5\n",
      "6\n"
     ]
    }
   ],
   "source": [
    "for y in [1, 2, 3, 4, 5, 6]:\n",
    "    print y"
   ]
  },
  {
   "cell_type": "code",
   "execution_count": 18,
   "metadata": {},
   "outputs": [
    {
     "name": "stdout",
     "output_type": "stream",
     "text": [
      "Nag\n",
      "Nag\n",
      "Nag\n",
      "Nag\n"
     ]
    }
   ],
   "source": [
    "for x in range(4):\n",
    "    print(\"Nag\")"
   ]
  },
  {
   "cell_type": "markdown",
   "metadata": {},
   "source": [
    "# break"
   ]
  },
  {
   "cell_type": "code",
   "execution_count": 19,
   "metadata": {},
   "outputs": [
    {
     "name": "stdout",
     "output_type": "stream",
     "text": [
      "enter a number 5\n",
      "1\n",
      "divisible\n",
      "2\n",
      "3\n",
      "4\n",
      "5\n",
      "divisible\n",
      "looping has done \n"
     ]
    }
   ],
   "source": [
    "a = int(raw_input(\"enter a number \"))\n",
    "i = 1\n",
    "# starting from 1 to till that number whether a number is divisibe\n",
    "# So if i values crosses a values then i have to stop verifying the division\n",
    "# i <= a\n",
    "while i <=a:\n",
    "    print(i)\n",
    "    if a%i == 0:\n",
    "        print(\"divisible\")\n",
    "    i += 1\n",
    "print(\"looping has done \")"
   ]
  },
  {
   "cell_type": "code",
   "execution_count": 20,
   "metadata": {
    "scrolled": true
   },
   "outputs": [
    {
     "name": "stdout",
     "output_type": "stream",
     "text": [
      "enter a number 12\n",
      "1\n",
      "divisible\n",
      "2\n",
      "divisible\n",
      "3\n",
      "divisible\n",
      "4\n",
      "divisible\n",
      "5\n",
      "6\n",
      "divisible\n",
      "7\n",
      "8\n",
      "9\n",
      "10\n",
      "11\n",
      "12\n",
      "divisible\n",
      "looping has done \n"
     ]
    }
   ],
   "source": [
    "a = int(raw_input(\"enter a number \"))\n",
    "i = 1\n",
    "# starting from 1 to till that number whether a number is divisibe\n",
    "# So if i values crosses a values then i have to stop verifying the division\n",
    "# i <= a\n",
    "while i <=a:\n",
    "    print(i)\n",
    "    if a%i == 0:\n",
    "        print(\"divisible\")\n",
    "    i += 1\n",
    "print(\"looping has done \")"
   ]
  },
  {
   "cell_type": "code",
   "execution_count": 21,
   "metadata": {},
   "outputs": [
    {
     "name": "stdout",
     "output_type": "stream",
     "text": [
      "enter a number 9\n",
      "1\n",
      "divisible\n",
      "2\n",
      "3\n",
      "divisible\n",
      "4\n",
      "5\n",
      "6\n",
      "7\n",
      "8\n",
      "9\n",
      "divisible\n",
      "looping has done \n"
     ]
    }
   ],
   "source": [
    "a = int(raw_input(\"enter a number \"))\n",
    "i = 1\n",
    "# starting from 1 to till that number whether a number is divisibe\n",
    "# So if i values crosses a values then i have to stop verifying the division\n",
    "# i <= a\n",
    "while i <=a:\n",
    "    print(i)\n",
    "    if a%i == 0:\n",
    "        print(\"divisible\")\n",
    "    i += 1\n",
    "print(\"looping has done \")"
   ]
  },
  {
   "cell_type": "code",
   "execution_count": 22,
   "metadata": {},
   "outputs": [
    {
     "name": "stdout",
     "output_type": "stream",
     "text": [
      "enter a number 25\n",
      "1\n",
      "divisible\n",
      "2\n",
      "3\n",
      "4\n",
      "5\n",
      "divisible\n",
      "6\n",
      "7\n",
      "8\n",
      "9\n",
      "10\n",
      "11\n",
      "12\n",
      "13\n",
      "14\n",
      "15\n",
      "16\n",
      "17\n",
      "18\n",
      "19\n",
      "20\n",
      "21\n",
      "22\n",
      "23\n",
      "24\n",
      "25\n",
      "divisible\n",
      "looping has done \n"
     ]
    }
   ],
   "source": [
    "a = int(raw_input(\"enter a number \"))\n",
    "i = 1\n",
    "# starting from 1 to till that number whether a number is divisibe\n",
    "# So if i values crosses a values then i have to stop verifying the division\n",
    "# i <= a\n",
    "while i <=a:\n",
    "    print(i)\n",
    "    if a%i == 0:\n",
    "        print(\"divisible\")\n",
    "    i += 1\n",
    "print(\"looping has done \")"
   ]
  },
  {
   "cell_type": "code",
   "execution_count": 23,
   "metadata": {},
   "outputs": [
    {
     "name": "stdout",
     "output_type": "stream",
     "text": [
      "2\n",
      "3\n",
      "4\n",
      "5\n"
     ]
    }
   ],
   "source": [
    "i = 2\n",
    "while True:\n",
    "    print(i)\n",
    "    if i == 5:\n",
    "        break\n",
    "    i += 1"
   ]
  },
  {
   "cell_type": "raw",
   "metadata": {},
   "source": [
    "whenever break statement is executed, then your program will immediately come out of the loop irrespective of condition/state"
   ]
  },
  {
   "cell_type": "code",
   "execution_count": 24,
   "metadata": {},
   "outputs": [
    {
     "name": "stdout",
     "output_type": "stream",
     "text": [
      "3\n",
      "4\n",
      "5\n"
     ]
    }
   ],
   "source": [
    "i = 3\n",
    "while True:\n",
    "    print(i)\n",
    "    if i == 5:\n",
    "        break\n",
    "    i += 1"
   ]
  },
  {
   "cell_type": "code",
   "execution_count": 25,
   "metadata": {},
   "outputs": [
    {
     "name": "stdout",
     "output_type": "stream",
     "text": [
      "enter a number 7\n",
      "1\n",
      "divisible\n",
      "2\n",
      "3\n",
      "4\n",
      "5\n",
      "6\n",
      "7\n",
      "divisible\n",
      "looping has done \n"
     ]
    }
   ],
   "source": [
    "a = int(raw_input(\"enter a number \"))\n",
    "i = 1\n",
    "# starting from 1 to till that number whether a number is divisibe\n",
    "# So if i values crosses a values then i have to stop verifying the division\n",
    "# i <= a\n",
    "while i <=a:\n",
    "    print(i)\n",
    "    if a%i == 0:\n",
    "        print(\"divisible\")\n",
    "    i += 1\n",
    "print(\"looping has done \")"
   ]
  },
  {
   "cell_type": "code",
   "execution_count": 26,
   "metadata": {},
   "outputs": [
    {
     "name": "stdout",
     "output_type": "stream",
     "text": [
      "enter a number 8\n",
      "1\n",
      "divisible\n",
      "2\n",
      "divisible\n",
      "3\n",
      "4\n",
      "divisible\n",
      "5\n",
      "6\n",
      "7\n",
      "8\n",
      "divisible\n",
      "looping has done \n"
     ]
    }
   ],
   "source": [
    "a = int(raw_input(\"enter a number \"))\n",
    "i = 1\n",
    "# starting from 1 to till that number whether a number is divisibe\n",
    "# So if i values crosses a values then i have to stop verifying the division\n",
    "# i <= a\n",
    "while i <=a:\n",
    "    print(i)\n",
    "    if a%i == 0:\n",
    "        print(\"divisible\")\n",
    "    i += 1\n",
    "print(\"looping has done \")"
   ]
  },
  {
   "cell_type": "code",
   "execution_count": 27,
   "metadata": {},
   "outputs": [
    {
     "name": "stdout",
     "output_type": "stream",
     "text": [
      "enter a number 9\n",
      "1\n",
      "divisible\n",
      "2\n",
      "3\n",
      "divisible\n",
      "4\n",
      "5\n",
      "6\n",
      "7\n",
      "8\n",
      "9\n",
      "divisible\n",
      "looping has done \n"
     ]
    }
   ],
   "source": [
    "a = int(raw_input(\"enter a number \"))\n",
    "i = 1\n",
    "# starting from 1 to till that number whether a number is divisibe\n",
    "# So if i values crosses a values then i have to stop verifying the division\n",
    "# i <= a\n",
    "while i <=a:\n",
    "    print(i)\n",
    "    if a%i == 0:\n",
    "        print(\"divisible\")\n",
    "    i += 1\n",
    "print(\"looping has done \")"
   ]
  },
  {
   "cell_type": "code",
   "execution_count": 29,
   "metadata": {},
   "outputs": [
    {
     "name": "stdout",
     "output_type": "stream",
     "text": [
      "enter a number 35\n",
      "1\n",
      "divisible\n",
      "2\n",
      "3\n",
      "4\n",
      "5\n",
      "divisible\n",
      "6\n",
      "7\n",
      "divisible\n",
      "8\n",
      "9\n",
      "10\n",
      "11\n",
      "12\n",
      "13\n",
      "14\n",
      "15\n",
      "16\n",
      "17\n",
      "18\n",
      "19\n",
      "20\n",
      "21\n",
      "22\n",
      "23\n",
      "24\n",
      "25\n",
      "26\n",
      "27\n",
      "28\n",
      "29\n",
      "30\n",
      "31\n",
      "32\n",
      "33\n",
      "34\n",
      "35\n",
      "divisible\n",
      "looping has done \n"
     ]
    }
   ],
   "source": [
    "a = int(raw_input(\"enter a number \"))\n",
    "i = 1\n",
    "# starting from 1 to till that number whether a number is divisibe\n",
    "# So if i values crosses a values then i have to stop verifying the division\n",
    "# i <= a\n",
    "while i <=a:\n",
    "    print(i)\n",
    "    if a%i == 0:\n",
    "        print(\"divisible\")\n",
    "    i += 1\n",
    "print(\"looping has done \")"
   ]
  },
  {
   "cell_type": "code",
   "execution_count": 34,
   "metadata": {},
   "outputs": [
    {
     "name": "stdout",
     "output_type": "stream",
     "text": [
      "enter a number 35\n",
      "2\n",
      "3\n",
      "4\n",
      "5\n",
      "divisible\n",
      "looping has done \n",
      "not prime\n"
     ]
    }
   ],
   "source": [
    "a = int(raw_input(\"enter a number \"))\n",
    "i = 2\n",
    "# starting from 1 to till that number whether a number is divisibe\n",
    "# So if i values crosses a values then i have to stop verifying the division\n",
    "# i <= a\n",
    "is_prime = True\n",
    "while i < a:\n",
    "    print(i)\n",
    "    if a%i == 0:\n",
    "        print(\"divisible\")\n",
    "        is_prime = False\n",
    "        break\n",
    "    i += 1\n",
    "print(\"looping has done \")\n",
    "if is_prime:\n",
    "    print(\"prime number\")\n",
    "else:\n",
    "    print(\"not prime\")"
   ]
  },
  {
   "cell_type": "code",
   "execution_count": 33,
   "metadata": {},
   "outputs": [
    {
     "name": "stdout",
     "output_type": "stream",
     "text": [
      "enter a number 13\n",
      "2\n",
      "3\n",
      "4\n",
      "5\n",
      "6\n",
      "7\n",
      "8\n",
      "9\n",
      "10\n",
      "11\n",
      "12\n",
      "looping has done \n",
      "prime number\n"
     ]
    }
   ],
   "source": [
    "a = int(raw_input(\"enter a number \"))\n",
    "i = 2\n",
    "# starting from 1 to till that number whether a number is divisibe\n",
    "# So if i values crosses a values then i have to stop verifying the division\n",
    "# i <= a\n",
    "is_prime = True\n",
    "while i <a:\n",
    "    print(i)\n",
    "    if a%i == 0:\n",
    "        print(\"divisible\")\n",
    "        is_prime = False\n",
    "        break\n",
    "    i += 1\n",
    "print(\"looping has done \")\n",
    "if is_prime:\n",
    "    print(\"prime number\")\n",
    "else:\n",
    "    print(\"not prime\")"
   ]
  },
  {
   "cell_type": "code",
   "execution_count": null,
   "metadata": {},
   "outputs": [],
   "source": []
  }
 ],
 "metadata": {
  "kernelspec": {
   "display_name": "Python 2",
   "language": "python",
   "name": "python2"
  },
  "language_info": {
   "codemirror_mode": {
    "name": "ipython",
    "version": 2
   },
   "file_extension": ".py",
   "mimetype": "text/x-python",
   "name": "python",
   "nbconvert_exporter": "python",
   "pygments_lexer": "ipython2",
   "version": "2.7.15"
  }
 },
 "nbformat": 4,
 "nbformat_minor": 2
}
