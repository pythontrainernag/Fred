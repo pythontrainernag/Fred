{
 "cells": [
  {
   "cell_type": "raw",
   "metadata": {},
   "source": [
    "Till now the program execution is line by line.\n",
    "If you want to take control of program execution order, then you will be using the control flow concepts.\n",
    "I want to skip/execute few lines(block of code) of code based on certain criteria(CS)\n",
    "or\n",
    "I want to execute few lines repeatedly(IS)\n",
    "or \n",
    "jump from one line to other like line No.5 to line No.12 etc(example)(TS)."
   ]
  },
  {
   "cell_type": "markdown",
   "metadata": {},
   "source": [
    "# conditional statements"
   ]
  },
  {
   "cell_type": "markdown",
   "metadata": {},
   "source": [
    "Condition?"
   ]
  },
  {
   "cell_type": "code",
   "execution_count": 1,
   "metadata": {},
   "outputs": [
    {
     "name": "stdout",
     "output_type": "stream",
     "text": [
      "True\n"
     ]
    }
   ],
   "source": [
    "balance = 200\n",
    "print balance < 300"
   ]
  },
  {
   "cell_type": "markdown",
   "metadata": {},
   "source": [
    "Using the relational operators between any two similiar datatypes is nothin but a condition"
   ]
  },
  {
   "cell_type": "raw",
   "metadata": {},
   "source": [
    "Anything where outcome is a boolean because python is a dynamic typing programming "
   ]
  },
  {
   "cell_type": "code",
   "execution_count": 2,
   "metadata": {},
   "outputs": [
    {
     "data": {
      "text/plain": [
       "True"
      ]
     },
     "execution_count": 2,
     "metadata": {},
     "output_type": "execute_result"
    }
   ],
   "source": [
    "5 < 5.5"
   ]
  },
  {
   "cell_type": "code",
   "execution_count": 3,
   "metadata": {},
   "outputs": [
    {
     "data": {
      "text/plain": [
       "True"
      ]
     },
     "execution_count": 3,
     "metadata": {},
     "output_type": "execute_result"
    }
   ],
   "source": [
    "bool(10)"
   ]
  },
  {
   "cell_type": "code",
   "execution_count": 6,
   "metadata": {},
   "outputs": [
    {
     "name": "stdout",
     "output_type": "stream",
     "text": [
      "Yes\n"
     ]
    }
   ],
   "source": [
    "10\n",
    "if 10:\n",
    "    print(\"Yes\")"
   ]
  },
  {
   "cell_type": "code",
   "execution_count": 7,
   "metadata": {},
   "outputs": [],
   "source": [
    "if 0:\n",
    "    print(\"Yes\")"
   ]
  },
  {
   "cell_type": "markdown",
   "metadata": {},
   "source": [
    "conditional statements"
   ]
  },
  {
   "cell_type": "raw",
   "metadata": {},
   "source": [
    "Based on condition, I will be executing block of statements\n",
    "If condition satisfies then I will be performing an action otherwise I may/may not proceed alternate action"
   ]
  },
  {
   "cell_type": "code",
   "execution_count": 8,
   "metadata": {},
   "outputs": [],
   "source": [
    "a = 10\n",
    "b = 20"
   ]
  },
  {
   "cell_type": "markdown",
   "metadata": {},
   "source": [
    "Scenario 1: If conditio satisfies execute block of statements otherwise skip"
   ]
  },
  {
   "cell_type": "raw",
   "metadata": {},
   "source": [
    "if <condition>:\n",
    "    st1\n",
    "    st2\n",
    "    |\n",
    "    |\n",
    "    stn"
   ]
  },
  {
   "cell_type": "raw",
   "metadata": {},
   "source": [
    "wrong syntax\n",
    "if <condition>:\n",
    "    st1\n",
    "    st2\n",
    "st3\n",
    "    st4"
   ]
  },
  {
   "cell_type": "raw",
   "metadata": {},
   "source": [
    "wrong syntax\n",
    "if <condition>:\n",
    "    st1\n",
    "  st2\n",
    "    st3\n",
    "      st4"
   ]
  },
  {
   "cell_type": "code",
   "execution_count": 10,
   "metadata": {},
   "outputs": [
    {
     "name": "stdout",
     "output_type": "stream",
     "text": [
      "(10, 20)\n"
     ]
    }
   ],
   "source": [
    "print(a,b)"
   ]
  },
  {
   "cell_type": "code",
   "execution_count": 13,
   "metadata": {},
   "outputs": [
    {
     "name": "stdout",
     "output_type": "stream",
     "text": [
      "30\n",
      "30\n",
      "inside if\n",
      "a is greater\n",
      "executed if\n"
     ]
    }
   ],
   "source": [
    "if a<b:\n",
    "    c = a+b\n",
    "    print(c)\n",
    "    print(a+b)\n",
    "    print(\"inside if\")\n",
    "    print(\"a is greater\")\n",
    "print(\"executed if\")"
   ]
  },
  {
   "cell_type": "code",
   "execution_count": 14,
   "metadata": {},
   "outputs": [
    {
     "name": "stdout",
     "output_type": "stream",
     "text": [
      "executed if\n",
      "hello python\n"
     ]
    }
   ],
   "source": [
    "if a>b:\n",
    "    c = a+b\n",
    "    print(c)\n",
    "    print(a+b)\n",
    "    print(\"inside if\")\n",
    "    print(\"a is greater\")\n",
    "print(\"executed if\")\n",
    "print(\"hello python\")"
   ]
  },
  {
   "cell_type": "raw",
   "metadata": {},
   "source": [
    "Scenario 2: if condition satisfies execute block of statements otherwise execute alternative block of statements\n",
    "Here we will use a new keyword called else"
   ]
  },
  {
   "cell_type": "raw",
   "metadata": {},
   "source": [
    "if <condition>:\n",
    "    st1\n",
    "    st2\n",
    "    |\n",
    "    |\n",
    "    stn\n",
    "else:\n",
    "    st1\n",
    "    st2\n",
    "    |\n",
    "    |\n",
    "    stn"
   ]
  },
  {
   "cell_type": "code",
   "execution_count": 15,
   "metadata": {},
   "outputs": [
    {
     "name": "stdout",
     "output_type": "stream",
     "text": [
      "30\n",
      "30\n",
      "inside if\n",
      "a is greater\n",
      "executed if\n"
     ]
    }
   ],
   "source": [
    "if a<b:\n",
    "    c = a+b\n",
    "    print(c)\n",
    "    print(a+b)\n",
    "    print(\"inside if\")\n",
    "    print(\"a is greater\")\n",
    "else:\n",
    "    c = a-b\n",
    "    print(c)\n",
    "    print(a-b)\n",
    "    print(\"inside else block\")\n",
    "    print(\"b is greater\")\n",
    "print(\"executed if\")"
   ]
  },
  {
   "cell_type": "code",
   "execution_count": 16,
   "metadata": {},
   "outputs": [
    {
     "name": "stdout",
     "output_type": "stream",
     "text": [
      "-10\n",
      "-10\n",
      "inside else block\n",
      "b is greater\n",
      "executed if\n"
     ]
    }
   ],
   "source": [
    "if a>b:\n",
    "    c = a+b\n",
    "    print(c)\n",
    "    print(a+b)\n",
    "    print(\"inside if\")\n",
    "    print(\"a is greater\")\n",
    "else:\n",
    "    c = a-b\n",
    "    print(c)\n",
    "    print(a-b)\n",
    "    print(\"inside else block\")\n",
    "    print(\"b is greater\")\n",
    "print(\"executed if\")"
   ]
  },
  {
   "cell_type": "code",
   "execution_count": 19,
   "metadata": {},
   "outputs": [
    {
     "name": "stdout",
     "output_type": "stream",
     "text": [
      "enter amount 500\n",
      "Thanks for maintaining good relationship with our bank\n"
     ]
    }
   ],
   "source": [
    "balance = int(raw_input(\"enter amount \"))\n",
    "if balance >= 300:\n",
    "    print(\"Thanks for maintaining good relationship with our bank\")\n",
    "else:\n",
    "    print(\"please maintain minimum balance in your account otherwise charges will be applied\")"
   ]
  },
  {
   "cell_type": "code",
   "execution_count": 20,
   "metadata": {},
   "outputs": [
    {
     "name": "stdout",
     "output_type": "stream",
     "text": [
      "enter amount 200\n",
      "please maintain minimum balance in your account otherwise charges will be applied\n"
     ]
    }
   ],
   "source": [
    "balance = int(raw_input(\"enter amount \"))\n",
    "if balance >= 300:\n",
    "    print(\"Thanks for maintaining good relationship with our bank\")\n",
    "else:\n",
    "    print(\"please maintain minimum balance in your account otherwise charges will be applied\")"
   ]
  },
  {
   "cell_type": "markdown",
   "metadata": {},
   "source": [
    "# Scenario 3\n",
    "scenarion 3: execute block of statements based on compound condition"
   ]
  },
  {
   "cell_type": "raw",
   "metadata": {},
   "source": [
    "Compound condition?"
   ]
  },
  {
   "cell_type": "raw",
   "metadata": {},
   "source": [
    "I will be using logical operators between the conditions to make it as compound\n",
    "and, or are the logicator operators which will be used"
   ]
  },
  {
   "cell_type": "code",
   "execution_count": 23,
   "metadata": {},
   "outputs": [
    {
     "name": "stdout",
     "output_type": "stream",
     "text": [
      "b is greater\n"
     ]
    }
   ],
   "source": [
    "a = 10\n",
    "b = 40\n",
    "c = 5\n",
    "if a>b and a>c:\n",
    "    print(\"a is greater\")\n",
    "\n",
    "if b>a and b>c:\n",
    "    print(\"b is greater\")\n",
    "\n",
    "if c>a and c>b:\n",
    "    print(\"c is greater\")"
   ]
  },
  {
   "cell_type": "code",
   "execution_count": 25,
   "metadata": {},
   "outputs": [
    {
     "name": "stdout",
     "output_type": "stream",
     "text": [
      "a is greater\n"
     ]
    }
   ],
   "source": [
    "a = 10\n",
    "b = 40\n",
    "c = 5\n",
    "if a>b and a>c:\n",
    "    print(\"a is not greater\")\n",
    "else:\n",
    "    print(\"a is greater\")"
   ]
  },
  {
   "cell_type": "raw",
   "metadata": {},
   "source": [
    "Scenario 4: Maintaining multiple alternatives\n",
    "Here I will be using a new keyword call elif"
   ]
  },
  {
   "cell_type": "code",
   "execution_count": 26,
   "metadata": {},
   "outputs": [
    {
     "name": "stdout",
     "output_type": "stream",
     "text": [
      "10 40 5\n"
     ]
    }
   ],
   "source": [
    "print a,b,c"
   ]
  },
  {
   "cell_type": "code",
   "execution_count": 27,
   "metadata": {},
   "outputs": [
    {
     "name": "stdout",
     "output_type": "stream",
     "text": [
      "b is greater\n"
     ]
    }
   ],
   "source": [
    "if a>b and a>c:\n",
    "    print(\"a is greater\")\n",
    "elif b>c and b>a:\n",
    "    print(\"b is greater\")\n",
    "elif c>a and c>b:\n",
    "    print(\"c is greater\")"
   ]
  },
  {
   "cell_type": "code",
   "execution_count": 28,
   "metadata": {},
   "outputs": [
    {
     "name": "stdout",
     "output_type": "stream",
     "text": [
      "x is True\n"
     ]
    }
   ],
   "source": [
    "x = True\n",
    "y = True\n",
    "z = True\n",
    "if x:\n",
    "    print(\"x is True\")\n",
    "elif y:\n",
    "    print(\"y is True\")\n",
    "elif z:\n",
    "    print(\"z is True\")"
   ]
  },
  {
   "cell_type": "code",
   "execution_count": 29,
   "metadata": {},
   "outputs": [
    {
     "name": "stdout",
     "output_type": "stream",
     "text": [
      "y is True\n"
     ]
    }
   ],
   "source": [
    "x = False\n",
    "y = True\n",
    "z = True\n",
    "if x:\n",
    "    print(\"x is True\")\n",
    "elif y:\n",
    "    print(\"y is True\")\n",
    "elif z:\n",
    "    print(\"z is True\")"
   ]
  },
  {
   "cell_type": "code",
   "execution_count": 30,
   "metadata": {},
   "outputs": [
    {
     "name": "stdout",
     "output_type": "stream",
     "text": [
      "b is greater\n"
     ]
    }
   ],
   "source": [
    "if a>b and a>c:\n",
    "    print(\"a is greater\")\n",
    "elif b>c:\n",
    "    print(\"b is greater\")\n",
    "else:\n",
    "    print(\"c is greater\")"
   ]
  },
  {
   "cell_type": "code",
   "execution_count": null,
   "metadata": {},
   "outputs": [],
   "source": []
  }
 ],
 "metadata": {
  "kernelspec": {
   "display_name": "Python 2",
   "language": "python",
   "name": "python2"
  },
  "language_info": {
   "codemirror_mode": {
    "name": "ipython",
    "version": 2
   },
   "file_extension": ".py",
   "mimetype": "text/x-python",
   "name": "python",
   "nbconvert_exporter": "python",
   "pygments_lexer": "ipython2",
   "version": "2.7.15"
  }
 },
 "nbformat": 4,
 "nbformat_minor": 2
}
