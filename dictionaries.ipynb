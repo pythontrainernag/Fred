{
 "cells": [
  {
   "cell_type": "raw",
   "metadata": {},
   "source": [
    "# dictionary is a key-value pair concept\n",
    "#in case of list I have stored all the values in square brackets, But index has been assigned automatically. Sometimes it will be difficult for me to proceed with default indicies. If I want to provide custom index to get a particular value then I will go for key-pair concept\n",
    "key is nothing custom/our defined index"
   ]
  },
  {
   "cell_type": "code",
   "execution_count": 1,
   "metadata": {},
   "outputs": [],
   "source": [
    "a = [2, 10, 20, 30]"
   ]
  },
  {
   "cell_type": "code",
   "execution_count": 2,
   "metadata": {},
   "outputs": [
    {
     "name": "stdout",
     "output_type": "stream",
     "text": [
      "20\n"
     ]
    }
   ],
   "source": [
    "print(a[2])"
   ]
  },
  {
   "cell_type": "code",
   "execution_count": 3,
   "metadata": {},
   "outputs": [],
   "source": [
    "d = {2:30, 3:10, 0:2}"
   ]
  },
  {
   "cell_type": "code",
   "execution_count": 4,
   "metadata": {},
   "outputs": [
    {
     "name": "stdout",
     "output_type": "stream",
     "text": [
      "{0: 2, 2: 30, 3: 10}\n"
     ]
    }
   ],
   "source": [
    "print(d)"
   ]
  },
  {
   "cell_type": "code",
   "execution_count": 5,
   "metadata": {},
   "outputs": [
    {
     "name": "stdout",
     "output_type": "stream",
     "text": [
      "30\n"
     ]
    }
   ],
   "source": [
    "print(d[2])"
   ]
  },
  {
   "cell_type": "code",
   "execution_count": 6,
   "metadata": {},
   "outputs": [
    {
     "name": "stdout",
     "output_type": "stream",
     "text": [
      "{'class': 'python', 'time': '06:00 AM IST'}\n"
     ]
    }
   ],
   "source": [
    "d = {'class': 'python', 'time': '06:00 AM IST'}\n",
    "print(d)"
   ]
  },
  {
   "cell_type": "code",
   "execution_count": 7,
   "metadata": {},
   "outputs": [
    {
     "name": "stdout",
     "output_type": "stream",
     "text": [
      "python\n"
     ]
    }
   ],
   "source": [
    "print(d['class'])"
   ]
  },
  {
   "cell_type": "code",
   "execution_count": 8,
   "metadata": {},
   "outputs": [
    {
     "name": "stdout",
     "output_type": "stream",
     "text": [
      "06:00 AM IST\n"
     ]
    }
   ],
   "source": [
    "print(d['time'])"
   ]
  },
  {
   "cell_type": "code",
   "execution_count": 9,
   "metadata": {},
   "outputs": [
    {
     "name": "stdout",
     "output_type": "stream",
     "text": [
      "python 06:00 AM IST\n"
     ]
    }
   ],
   "source": [
    "l = ['python', '06:00 AM IST']\n",
    "print l[0], l[1]"
   ]
  },
  {
   "cell_type": "raw",
   "metadata": {},
   "source": [
    "keys are used to identify the values uniquely.\n",
    "Let say there are 10 members inside the class where names has been duplicated"
   ]
  },
  {
   "cell_type": "code",
   "execution_count": 11,
   "metadata": {},
   "outputs": [],
   "source": [
    "#some person with name xyz got 30 marks, and other person with same name xyz 60 marks\n",
    "d = {'19p3': 'xyz', '19p7': 'xyz'}\n",
    "d1 = {'19p3': 30, '19p7': 60}"
   ]
  },
  {
   "cell_type": "code",
   "execution_count": 12,
   "metadata": {},
   "outputs": [
    {
     "name": "stdout",
     "output_type": "stream",
     "text": [
      "{'19p7': 'xyz', '19p3': 'xyz'}\n"
     ]
    }
   ],
   "source": [
    "print(d)"
   ]
  },
  {
   "cell_type": "code",
   "execution_count": 13,
   "metadata": {},
   "outputs": [
    {
     "name": "stdout",
     "output_type": "stream",
     "text": [
      "30\n"
     ]
    }
   ],
   "source": [
    "print(d1['19p3'])"
   ]
  },
  {
   "cell_type": "code",
   "execution_count": 14,
   "metadata": {},
   "outputs": [],
   "source": [
    "d = {'19p3': 'xyz', '19p7': 'xyz', '19p3': 'xy'}"
   ]
  },
  {
   "cell_type": "code",
   "execution_count": 15,
   "metadata": {},
   "outputs": [
    {
     "name": "stdout",
     "output_type": "stream",
     "text": [
      "{'19p7': 'xyz', '19p3': 'xy'}\n"
     ]
    }
   ],
   "source": [
    "print(d)"
   ]
  },
  {
   "cell_type": "code",
   "execution_count": 17,
   "metadata": {},
   "outputs": [
    {
     "name": "stdout",
     "output_type": "stream",
     "text": [
      "{'19p6': 'elephant', '19p7': 'xyz', '19p3': 'xy'}\n"
     ]
    }
   ],
   "source": [
    "d['19p6'] = 'elephant'\n",
    "print(d)"
   ]
  },
  {
   "cell_type": "code",
   "execution_count": 18,
   "metadata": {},
   "outputs": [
    {
     "name": "stdout",
     "output_type": "stream",
     "text": [
      "19p6\n",
      "19p7\n",
      "19p3\n"
     ]
    }
   ],
   "source": [
    "for x in d.keys():\n",
    "    print(x)"
   ]
  },
  {
   "cell_type": "code",
   "execution_count": 19,
   "metadata": {},
   "outputs": [
    {
     "name": "stdout",
     "output_type": "stream",
     "text": [
      "elephant\n",
      "xyz\n",
      "xy\n"
     ]
    }
   ],
   "source": [
    "for x in d.values():\n",
    "    print(x)"
   ]
  },
  {
   "cell_type": "code",
   "execution_count": 24,
   "metadata": {},
   "outputs": [
    {
     "name": "stdout",
     "output_type": "stream",
     "text": [
      "kjdjfshadgfjlh 19p6 is elephant\n",
      "kjdjfshadgfjlh 19p7 is xyz\n",
      "kjdjfshadgfjlh 19p3 is xy\n"
     ]
    }
   ],
   "source": [
    "for x,y in d.items():\n",
    "    print(\"kjdjfshadgfjlh \"+x+\" is \"+y)"
   ]
  },
  {
   "cell_type": "code",
   "execution_count": 21,
   "metadata": {},
   "outputs": [
    {
     "name": "stdout",
     "output_type": "stream",
     "text": [
      "{'19p6': 'elephant', '19p7': 'xyz', '19p3': 'xy'}\n"
     ]
    }
   ],
   "source": [
    "print(d)"
   ]
  },
  {
   "cell_type": "code",
   "execution_count": 25,
   "metadata": {},
   "outputs": [
    {
     "name": "stdout",
     "output_type": "stream",
     "text": [
      "{'classes': [{}, {}]}\n",
      "[{}, {}]\n"
     ]
    }
   ],
   "source": [
    "data = {'classes': [{}, {}]}\n",
    "print(data)\n",
    "print(data['classes'])"
   ]
  },
  {
   "cell_type": "code",
   "execution_count": 28,
   "metadata": {},
   "outputs": [
    {
     "name": "stdout",
     "output_type": "stream",
     "text": [
      "[{'language': 'python', 'time': '06:00 AM IST'}, {'language': 'Django', 'time': '07:00 AM IST'}]\n"
     ]
    }
   ],
   "source": [
    "data = {'classes': [{'language':'python', 'time':'06:00 AM IST'}, {'language': 'Django', 'time': '07:00 AM IST'}]}\n",
    "#print(data)\n",
    "print(data['classes'])"
   ]
  },
  {
   "cell_type": "code",
   "execution_count": 27,
   "metadata": {},
   "outputs": [
    {
     "name": "stdout",
     "output_type": "stream",
     "text": [
      "[{'language': 'python', 'time': '06:00 AM IST'}, {'language': 'Django', 'time': '07:00 AM IST'}]\n"
     ]
    }
   ],
   "source": [
    "cls = data['classes']\n",
    "print(cls)"
   ]
  },
  {
   "cell_type": "code",
   "execution_count": 29,
   "metadata": {},
   "outputs": [
    {
     "name": "stdout",
     "output_type": "stream",
     "text": [
      "{'language': 'python', 'time': '06:00 AM IST'}\n"
     ]
    }
   ],
   "source": [
    "print(cls[0])"
   ]
  },
  {
   "cell_type": "code",
   "execution_count": 30,
   "metadata": {},
   "outputs": [
    {
     "name": "stdout",
     "output_type": "stream",
     "text": [
      "{'language': 'Django', 'time': '07:00 AM IST'}\n"
     ]
    }
   ],
   "source": [
    "print(cls[1])"
   ]
  },
  {
   "cell_type": "code",
   "execution_count": 31,
   "metadata": {},
   "outputs": [
    {
     "name": "stdout",
     "output_type": "stream",
     "text": [
      "2\n"
     ]
    }
   ],
   "source": [
    "print(len(cls))"
   ]
  },
  {
   "cell_type": "code",
   "execution_count": 32,
   "metadata": {},
   "outputs": [
    {
     "name": "stdout",
     "output_type": "stream",
     "text": [
      "{'language': 'python', 'time': '06:00 AM IST'}\n",
      "{'language': 'Django', 'time': '07:00 AM IST'}\n"
     ]
    }
   ],
   "source": [
    "for x in cls:\n",
    "    print(x)"
   ]
  },
  {
   "cell_type": "code",
   "execution_count": 33,
   "metadata": {},
   "outputs": [
    {
     "name": "stdout",
     "output_type": "stream",
     "text": [
      "07:00 AM IST\n"
     ]
    }
   ],
   "source": [
    "for x in cls:\n",
    "    if x['language'] == 'Django':\n",
    "        print(x['time'])"
   ]
  },
  {
   "cell_type": "code",
   "execution_count": 34,
   "metadata": {},
   "outputs": [
    {
     "name": "stdout",
     "output_type": "stream",
     "text": [
      "06:00 AM IST\n"
     ]
    }
   ],
   "source": [
    "for x in cls:\n",
    "    if x['language'] == 'python':\n",
    "        print(x['time'])"
   ]
  },
  {
   "cell_type": "code",
   "execution_count": null,
   "metadata": {},
   "outputs": [],
   "source": []
  }
 ],
 "metadata": {
  "kernelspec": {
   "display_name": "Python 2",
   "language": "python",
   "name": "python2"
  },
  "language_info": {
   "codemirror_mode": {
    "name": "ipython",
    "version": 2
   },
   "file_extension": ".py",
   "mimetype": "text/x-python",
   "name": "python",
   "nbconvert_exporter": "python",
   "pygments_lexer": "ipython2",
   "version": "2.7.15"
  }
 },
 "nbformat": 4,
 "nbformat_minor": 2
}
